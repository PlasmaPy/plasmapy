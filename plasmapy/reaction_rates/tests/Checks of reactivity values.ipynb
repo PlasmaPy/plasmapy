{
 "cells": [
  {
   "cell_type": "code",
   "execution_count": null,
   "metadata": {},
   "outputs": [],
   "source": [
    "import math\n",
    "import matplotlib.pyplot as plt\n",
    "import numpy as np\n",
    "import os\n",
    "import pandas as pd\n",
    "\n",
    "import plasmapy.reaction_rates.exceptions\n",
    "import plasmapy.reaction_rates.fusionlib\n",
    "import plasmapy.reaction_rates.reactivity"
   ]
  },
  {
   "cell_type": "markdown",
   "metadata": {},
   "source": [
    "### Bosch and Hale reactivity recreate Table VIII"
   ]
  },
  {
   "cell_type": "code",
   "execution_count": null,
   "metadata": {},
   "outputs": [],
   "source": [
    "# Create list of temperatures on log scale\n",
    "sample_temperature_values = [\n",
    "    0.2,\n",
    "    0.3,\n",
    "    0.4,\n",
    "    0.5,\n",
    "    0.6,\n",
    "    0.7,\n",
    "    0.8,\n",
    "    0.9,\n",
    "    1.0,\n",
    "    1.3,\n",
    "    1.5,\n",
    "    1.8,\n",
    "    2.0,\n",
    "    2.5,\n",
    "    3.0,\n",
    "    4.0,\n",
    "    5.0,\n",
    "    6.0,\n",
    "    8.0,\n",
    "    10,\n",
    "    12,\n",
    "    15,\n",
    "    20,\n",
    "    30,\n",
    "    40,\n",
    "    50,\n",
    "]\n",
    "\n",
    "# reactions = ['T(d,n)4He', '3He(d,p)4He', 'D(d,p)T', 'D(d,n)3He']\n",
    "reactions = [\"T(d,n)4He\", \"D(d,p)T\", \"D(d,n)3He\"]\n",
    "# Note that Bosch and Hale show out of stated range reactivites for '3He(d,p)4He'\n",
    "# so we do not show that column here.\n",
    "\n",
    "for reaction in reactions:\n",
    "    df = pd.DataFrame(sample_temperature_values, columns=[\"Temperature\"])\n",
    "\n",
    "for reaction in reactions:\n",
    "    df[reaction] = df.apply(\n",
    "        lambda row: format(\n",
    "            reactivity.reactivity(\n",
    "                T_i=row[\"Temperature\"],\n",
    "                reaction=reaction,\n",
    "                method=\"parameterized\",\n",
    "                use_cache=False,\n",
    "            ),\n",
    "            \"0.3e\",\n",
    "        ),\n",
    "        axis=1,\n",
    "    )\n",
    "df"
   ]
  },
  {
   "cell_type": "markdown",
   "metadata": {},
   "source": [
    "### Check integrated reactivites against parameterized reactivities"
   ]
  },
  {
   "cell_type": "code",
   "execution_count": null,
   "metadata": {},
   "outputs": [],
   "source": [
    "log_temperature_values = np.logspace(math.log10(0.2), math.log10(10000), 100)\n",
    "sigma_v_df = pd.DataFrame(log_temperature_values, columns=[\"Temperature\"])\n",
    "\n",
    "# reactions = ['T(d,n)4He', '3He(d,p)4He', 'D(d,p)T', 'D(d,n)3He']\n",
    "reactions = [\"T(d,n)4He\", \"D(d,p)T\", \"D(d,n)3He\"]\n",
    "methods = [\"parameterized\", \"integrated\"]\n",
    "\n",
    "# for reaction in reactions:\n",
    "df = pd.DataFrame(log_temperature_values, columns=[\"Temperature\"])\n",
    "\n",
    "\n",
    "def reactivity_wrapper(*args, **kwargs):\n",
    "    try:\n",
    "        r = reactivity.reactivity(*args, **kwargs)\n",
    "    except (\n",
    "        exceptions.ReactivityTemperatureTooHighError,\n",
    "        exceptions.ReactivityTemperatureTooHighError,\n",
    "    ):\n",
    "        r = None\n",
    "    return r\n",
    "\n",
    "\n",
    "for reaction in reactions:\n",
    "    for method in methods:\n",
    "        df[reaction + \" \" + method] = df.apply(\n",
    "            lambda row: reactivity_wrapper(\n",
    "                T_i=row[\"Temperature\"],\n",
    "                reaction=reaction,\n",
    "                method=method,\n",
    "                use_cache=False,\n",
    "            ),\n",
    "            axis=1,\n",
    "        )\n",
    "df"
   ]
  },
  {
   "cell_type": "code",
   "execution_count": null,
   "metadata": {},
   "outputs": [],
   "source": [
    "fig, ax = plt.subplots(dpi=300)\n",
    "fig.set_size_inches(3, 3)\n",
    "df.plot(\n",
    "    x=\"Temperature\",\n",
    "    y=[\n",
    "        \"T(d,n)4He parameterized\",\n",
    "        \"T(d,n)4He integrated\",\n",
    "        \"D(d,p)T parameterized\",\n",
    "        \"D(d,p)T integrated\",\n",
    "        \"D(d,n)3He parameterized\",\n",
    "        \"D(d,n)3He integrated\",\n",
    "    ],\n",
    "    linewidth=1,\n",
    "    style=[\"-\", \"--\", \"-\", \"--\", \"-\", \"--\"],\n",
    "    logy=True,\n",
    "    logx=True,\n",
    "    ax=ax,\n",
    ")\n",
    "# ax.set_xlim(0.2, 1000)\n",
    "# ax.grid('on', which='both', axis='both')\n",
    "# ax.set_ylim(1e-25, 1e-21)\n",
    "# ax.set_ylim(0, 5e-22)\n",
    "# ax.legend(reaction_legend_dict.values(), prop={'size': 6}, loc='lower right')\n",
    "\n",
    "# ax.legend([legend_dict[l] for l in ax.get_legend_handles_labels()[1]])\n",
    "\n",
    "# ax.set_xlabel(r'$T_{i} \\; \\si{(keV)}$')\n",
    "# ax.set_ylabel(r'$\\langle \\sigma v \\rangle \\; \\si{(\\meter^{3} \\second^{-1})}$ ')\n",
    "fig.savefig(os.path.join(\"images\", \"reactivity_check.png\"), bbox_inches=\"tight\")"
   ]
  },
  {
   "cell_type": "code",
   "execution_count": null,
   "metadata": {},
   "outputs": [],
   "source": [
    "fig, ax = plt.subplots(dpi=300)\n",
    "fig.set_size_inches(3, 3)\n",
    "df.plot(\n",
    "    x=\"Temperature\",\n",
    "    y=[\"T(d,n)4He integrated\"],\n",
    "    linewidth=1,\n",
    "    style=[\"-\", \"--\", \"-\", \"--\"],\n",
    "    logy=True,\n",
    "    logx=True,\n",
    "    ax=ax,\n",
    ")\n",
    "ax.set_ylim(1e-27, 5e-21)\n",
    "ax.set_xlim(1, 1e4)"
   ]
  },
  {
   "cell_type": "markdown",
   "metadata": {},
   "source": [
    "### Check pb11 integrated vs parameterized reactivities [not yet supported]"
   ]
  },
  {
   "cell_type": "code",
   "execution_count": null,
   "metadata": {},
   "outputs": [],
   "source": [
    "log_temperature_values = np.logspace(math.log10(0.2), math.log10(500), 100)\n",
    "sigma_v_df = pd.DataFrame(log_temperature_values, columns=[\"Temperature\"])\n",
    "\n",
    "legend_dict = {\n",
    "    \"integrated_11B(p,4He)4He4He\": r\"Integrated: $\\mathrm{p+B^{11}} \\rightarrow \\mathrm{3 \\alpha}$\",\n",
    "    \"parameterized_11B(p,4He)4He4He\": r\"Parameterized: $\\mathrm{p+B^{11}} \\rightarrow \\mathrm{3 \\alpha}$\",\n",
    "}\n",
    "\n",
    "# TODO figure out how to get p-11B reactivity at temperature > 500keV\n",
    "for reaction in legend_dict.keys():\n",
    "    sigma_v_df[reaction] = sigma_v_df.apply(\n",
    "        lambda row: reactivity._reactivity_integrated(\n",
    "            row[\"Temperature\"],\n",
    "            reaction=reaction.split(\"_\")[1],\n",
    "        ),\n",
    "        axis=1,\n",
    "    )\n",
    "# sigma_v_df['sum DD'] = sigma_v_df[['D(d,p)T', 'D(d,n)3He']].sum(axis=1)\n",
    "sigma_v_df"
   ]
  }
 ],
 "metadata": {
  "kernelspec": {
   "display_name": "Python 3 (ipykernel)",
   "language": "python",
   "name": "python3"
  },
  "language_info": {
   "codemirror_mode": {
    "name": "ipython",
    "version": 3
   },
   "file_extension": ".py",
   "mimetype": "text/x-python",
   "name": "python",
   "nbconvert_exporter": "python",
   "pygments_lexer": "ipython3",
   "version": "3.10.8"
  },
  "widgets": {
   "application/vnd.jupyter.widget-state+json": {
    "state": {},
    "version_major": 2,
    "version_minor": 0
   }
  }
 },
 "nbformat": 4,
 "nbformat_minor": 4
}
